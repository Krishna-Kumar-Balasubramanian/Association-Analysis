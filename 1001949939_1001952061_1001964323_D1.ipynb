{
 "cells": [
  {
   "cell_type": "markdown",
   "metadata": {
    "id": "0U_NbahClsno"
   },
   "source": [
    "# PA 3-1: Association Analysis - Apriori/FP Growth"
   ]
  },
  {
   "cell_type": "markdown",
   "metadata": {
    "id": "o0YH1s5WmBy-"
   },
   "source": [
    "## Student Details \n",
    "\n",
    "Student Name and ID: Group members name and ID :-\n",
    "\n",
    "Krishna Kumar Balasubramanian 1001949939\n",
    "Pooja Srinivasan 1001952061\n",
    "Mohanraj Senabady 1001964323 \n",
    "\n"
   ]
  },
  {
   "cell_type": "markdown",
   "metadata": {
    "id": "SihqKhAKmO7u"
   },
   "source": [
    "## Submission Instructions\n",
    "\n",
    "Rename this submission file as specified in the instructions document"
   ]
  },
  {
   "cell_type": "markdown",
   "metadata": {},
   "source": [
    "## Tasks"
   ]
  },
  {
   "cell_type": "markdown",
   "metadata": {},
   "source": [
    "1.    Load the dataset (from the csv file)"
   ]
  },
  {
   "cell_type": "code",
   "execution_count": 2,
   "metadata": {},
   "outputs": [],
   "source": [
    "import pandas as pd #pandas is a Python library used for working with data sets\n",
    "import numpy as np #perform a wide variety of mathematical operations on arrays\n",
    "import matplotlib.pyplot as plt #used for visualizations in Python\n",
    "import seaborn as sns #seaborn is built on matplotlib\n",
    "import ast #helps Python applications to process trees of the Python abstract syntax grammar\n",
    "import time #returns the number of seconds passed since epoch"
   ]
  },
  {
   "cell_type": "code",
   "execution_count": 3,
   "metadata": {},
   "outputs": [],
   "source": [
    "from matplotlib.pyplot import scatter #visual representation of how two variables relate to each other\n",
    "from tqdm import tqdm #used to create a smart progress bar for the loops.\n",
    "from mlxtend.preprocessing import TransactionEncoder #encodes database transaction data in form of a Python list of lists into a NumPy array.\n",
    "from mlxtend.frequent_patterns import apriori #extracting frequent itemsets with applications in association rule learning.\n",
    "from mlxtend.frequent_patterns import fpgrowth #the mining of pattern itemsets, subsequences, and substructures that appear frequently in a dataset\n",
    "from mlxtend.frequent_patterns import association_rules #\"if-then\" statements, that help to show the probability of relationships between data items, within large data sets in various types of databases"
   ]
  },
  {
   "cell_type": "code",
   "execution_count": 4,
   "metadata": {},
   "outputs": [
    {
     "data": {
      "text/html": [
       "<div>\n",
       "<style scoped>\n",
       "    .dataframe tbody tr th:only-of-type {\n",
       "        vertical-align: middle;\n",
       "    }\n",
       "\n",
       "    .dataframe tbody tr th {\n",
       "        vertical-align: top;\n",
       "    }\n",
       "\n",
       "    .dataframe thead th {\n",
       "        text-align: right;\n",
       "    }\n",
       "</style>\n",
       "<table border=\"1\" class=\"dataframe\">\n",
       "  <thead>\n",
       "    <tr style=\"text-align: right;\">\n",
       "      <th></th>\n",
       "      <th>Tid</th>\n",
       "      <th>items</th>\n",
       "    </tr>\n",
       "  </thead>\n",
       "  <tbody>\n",
       "    <tr>\n",
       "      <th>0</th>\n",
       "      <td>0</td>\n",
       "      <td>Bread, Corn, Dill, Ice cream, Sugar, Yogurt, c...</td>\n",
       "    </tr>\n",
       "    <tr>\n",
       "      <th>1</th>\n",
       "      <td>1</td>\n",
       "      <td>Milk,</td>\n",
       "    </tr>\n",
       "    <tr>\n",
       "      <th>2</th>\n",
       "      <td>2</td>\n",
       "      <td>Apple, Butter, Dill, Ice cream, Milk, Yogurt, ...</td>\n",
       "    </tr>\n",
       "    <tr>\n",
       "      <th>3</th>\n",
       "      <td>3</td>\n",
       "      <td>Butter, Cheese, Dill, Milk, Nutmeg, Onion,</td>\n",
       "    </tr>\n",
       "    <tr>\n",
       "      <th>4</th>\n",
       "      <td>4</td>\n",
       "      <td>Apple, Bread,</td>\n",
       "    </tr>\n",
       "  </tbody>\n",
       "</table>\n",
       "</div>"
      ],
      "text/plain": [
       "   Tid                                              items\n",
       "0    0  Bread, Corn, Dill, Ice cream, Sugar, Yogurt, c...\n",
       "1    1                                             Milk, \n",
       "2    2  Apple, Butter, Dill, Ice cream, Milk, Yogurt, ...\n",
       "3    3        Butter, Cheese, Dill, Milk, Nutmeg, Onion, \n",
       "4    4                                     Apple, Bread, "
      ]
     },
     "execution_count": 4,
     "metadata": {},
     "output_type": "execute_result"
    }
   ],
   "source": [
    "data = pd.read_csv(\"dataset1.csv\")\n",
    "data.head(5)"
   ]
  },
  {
   "cell_type": "markdown",
   "metadata": {},
   "source": [
    "2.Pre-process the dataset and provide a detailed explanation (such as Handling of null values, empty strings, unncessary trailing characters such as commas and white spaces)"
   ]
  },
  {
   "cell_type": "code",
   "execution_count": 5,
   "metadata": {},
   "outputs": [
    {
     "name": "stdout",
     "output_type": "stream",
     "text": [
      "Null values: Tid      0\n",
      "items    0\n",
      "dtype: int64\n",
      "\n",
      "No. of rows that have empty strings: 0\n"
     ]
    }
   ],
   "source": [
    "print(\"Null values:\", data.isnull().sum())\n",
    "emt = (data['items'].str.strip().str.len() == 0).sum() #removes any leading or trailing whitespace from each item in the column\n",
    "print(\"\\nNo. of rows that have empty strings:\", emt)"
   ]
  },
  {
   "cell_type": "markdown",
   "metadata": {},
   "source": [
    "#### Converting items in the column as strings"
   ]
  },
  {
   "cell_type": "code",
   "execution_count": 6,
   "metadata": {},
   "outputs": [],
   "source": [
    "data['items'] = data['items'].astype(str)"
   ]
  },
  {
   "cell_type": "markdown",
   "metadata": {},
   "source": [
    "#### Removing unnecessary commas and whitespace from the items column"
   ]
  },
  {
   "cell_type": "code",
   "execution_count": 7,
   "metadata": {},
   "outputs": [],
   "source": [
    "data['items'] = data['items'].str.strip().str.rstrip(',')"
   ]
  },
  {
   "cell_type": "markdown",
   "metadata": {},
   "source": [
    "#### Spliting the items column into a items list"
   ]
  },
  {
   "cell_type": "code",
   "execution_count": 8,
   "metadata": {},
   "outputs": [],
   "source": [
    "data['items'] = data['items'].str.split(',')"
   ]
  },
  {
   "cell_type": "markdown",
   "metadata": {},
   "source": [
    "#### Converting items column to a list of lists"
   ]
  },
  {
   "cell_type": "code",
   "execution_count": 9,
   "metadata": {},
   "outputs": [],
   "source": [
    "trans = data['items'].tolist()"
   ]
  },
  {
   "cell_type": "markdown",
   "metadata": {},
   "source": [
    "#### Convert each item string in the items column to a list of items"
   ]
  },
  {
   "cell_type": "code",
   "execution_count": 10,
   "metadata": {},
   "outputs": [
    {
     "data": {
      "text/html": [
       "<div>\n",
       "<style scoped>\n",
       "    .dataframe tbody tr th:only-of-type {\n",
       "        vertical-align: middle;\n",
       "    }\n",
       "\n",
       "    .dataframe tbody tr th {\n",
       "        vertical-align: top;\n",
       "    }\n",
       "\n",
       "    .dataframe thead th {\n",
       "        text-align: right;\n",
       "    }\n",
       "</style>\n",
       "<table border=\"1\" class=\"dataframe\">\n",
       "  <thead>\n",
       "    <tr style=\"text-align: right;\">\n",
       "      <th></th>\n",
       "      <th>Tid</th>\n",
       "      <th>items</th>\n",
       "    </tr>\n",
       "  </thead>\n",
       "  <tbody>\n",
       "    <tr>\n",
       "      <th>0</th>\n",
       "      <td>0</td>\n",
       "      <td>[Bread,  Corn,  Dill,  Ice cream,  Sugar,  Yog...</td>\n",
       "    </tr>\n",
       "    <tr>\n",
       "      <th>1</th>\n",
       "      <td>1</td>\n",
       "      <td>[Milk]</td>\n",
       "    </tr>\n",
       "    <tr>\n",
       "      <th>2</th>\n",
       "      <td>2</td>\n",
       "      <td>[Apple,  Butter,  Dill,  Ice cream,  Milk,  Yo...</td>\n",
       "    </tr>\n",
       "    <tr>\n",
       "      <th>3</th>\n",
       "      <td>3</td>\n",
       "      <td>[Butter,  Cheese,  Dill,  Milk,  Nutmeg,  Onion]</td>\n",
       "    </tr>\n",
       "    <tr>\n",
       "      <th>4</th>\n",
       "      <td>4</td>\n",
       "      <td>[Apple,  Bread]</td>\n",
       "    </tr>\n",
       "  </tbody>\n",
       "</table>\n",
       "</div>"
      ],
      "text/plain": [
       "   Tid                                              items\n",
       "0    0  [Bread,  Corn,  Dill,  Ice cream,  Sugar,  Yog...\n",
       "1    1                                             [Milk]\n",
       "2    2  [Apple,  Butter,  Dill,  Ice cream,  Milk,  Yo...\n",
       "3    3   [Butter,  Cheese,  Dill,  Milk,  Nutmeg,  Onion]\n",
       "4    4                                    [Apple,  Bread]"
      ]
     },
     "execution_count": 10,
     "metadata": {},
     "output_type": "execute_result"
    }
   ],
   "source": [
    "data['items'] = data['items'].apply(lambda x: eval(x) if isinstance(x, str) else x)\n",
    "data.head(5)"
   ]
  },
  {
   "cell_type": "markdown",
   "metadata": {},
   "source": [
    "3.    Encode the dataset"
   ]
  },
  {
   "cell_type": "markdown",
   "metadata": {},
   "source": [
    "#### Using transaction encoder fitting and transforming the data"
   ]
  },
  {
   "cell_type": "code",
   "execution_count": 11,
   "metadata": {},
   "outputs": [],
   "source": [
    "traen = TransactionEncoder()\n",
    "traen_array = traen.fit(data['items']).transform(data['items'])"
   ]
  },
  {
   "cell_type": "code",
   "execution_count": 12,
   "metadata": {},
   "outputs": [],
   "source": [
    "data_en = pd.DataFrame(traen_array, columns=traen.columns_) #fitting traen to the transactions data using the fit_transform method, which returns a NumPy array"
   ]
  },
  {
   "cell_type": "code",
   "execution_count": 13,
   "metadata": {},
   "outputs": [
    {
     "name": "stdout",
     "output_type": "stream",
     "text": [
      " Bread           bool\n",
      " Butter          bool\n",
      " Cheese          bool\n",
      " Corn            bool\n",
      " Dill            bool\n",
      " Eggs            bool\n",
      " Ice cream       bool\n",
      " Kidney Beans    bool\n",
      " Milk            bool\n",
      " Nutmeg          bool\n",
      " Onion           bool\n",
      " Sugar           bool\n",
      " Unicorn         bool\n",
      " Yogurt          bool\n",
      " chocolate       bool\n",
      "Apple            bool\n",
      "Bread            bool\n",
      "Butter           bool\n",
      "Cheese           bool\n",
      "Corn             bool\n",
      "Dill             bool\n",
      "Eggs             bool\n",
      "Ice cream        bool\n",
      "Kidney Beans     bool\n",
      "Milk             bool\n",
      "Nutmeg           bool\n",
      "Onion            bool\n",
      "Sugar            bool\n",
      "Unicorn          bool\n",
      "Yogurt           bool\n",
      "dtype: object (999, 30)\n"
     ]
    }
   ],
   "source": [
    "print(data_en.dtypes ,data_en.shape)"
   ]
  },
  {
   "cell_type": "markdown",
   "metadata": {},
   "source": [
    "For each of the combinations in tasks 4 & 5, print the output in the following Sample format: \n",
    "\n",
    "- Support = 0.02\n",
    "- Confidence = 0.1\n",
    "- Total Number of Association Rules: 10\n",
    "- Top 5 rules ordered by Confidence descending:\n",
    "- Number of Maximal Sets: 5\n",
    "- Number of Closed Sets: 5"
   ]
  },
  {
   "cell_type": "markdown",
   "metadata": {},
   "source": [
    "4.\tExecute Apriori algorithm and generate rules for 3 different combinations of support and confidence"
   ]
  },
  {
   "cell_type": "code",
   "execution_count": 14,
   "metadata": {},
   "outputs": [
    {
     "name": "stdout",
     "output_type": "stream",
     "text": [
      "freq_item         support                                           itemsets\n",
      "0      0.154154                                           ( Bread)\n",
      "1      0.288288                                          ( Butter)\n",
      "2      0.321321                                          ( Cheese)\n",
      "3      0.361361                                            ( Corn)\n",
      "4      0.366366                                            ( Dill)\n",
      "...         ...                                                ...\n",
      "11441  0.010010  ( Milk,  chocolate,  Onion,  Eggs,  Ice cream,...\n",
      "11442  0.011011  ( Milk,  Onion,  Eggs,  Ice cream,  Unicorn, A...\n",
      "11443  0.010010  ( Milk,  Onion,  Eggs,  Kidney Beans,  Unicorn...\n",
      "11444  0.010010  ( chocolate,  Nutmeg,  Onion,  Kidney Beans,  ...\n",
      "11445  0.010010  ( chocolate,  Sugar,  Onion,  Kidney Beans,  U...\n",
      "\n",
      "[11446 rows x 2 columns]\n",
      "Support = 0.01 / Confidence = 0.10 / Total No.association rules: 289856 / No. of Maximal Sets: 3748 / No. of Closed Sets: 167\n",
      "\n",
      "Top 10 rules ordered by confidence descending:\n",
      "            antecedents consequents  antecedent support  consequent support  support  confidence     lift  leverage  conviction  zhangs_metric\n",
      "               ( Bread)     (Apple)            0.154154            0.383383 0.154154         1.0 2.608355  0.095054         inf       0.728994\n",
      "      ( Bread,  Butter)     (Apple)            0.080080            0.383383 0.080080         1.0 2.608355  0.049379         inf       0.670294\n",
      "      ( Bread,  Cheese)     (Apple)            0.066066            0.383383 0.066066         1.0 2.608355  0.040737         inf       0.660236\n",
      "        ( Bread,  Corn)     (Apple)            0.080080            0.383383 0.080080         1.0 2.608355  0.049379         inf       0.670294\n",
      "        ( Dill,  Bread)     (Apple)            0.070070            0.383383 0.070070         1.0 2.608355  0.043206         inf       0.663079\n",
      "        ( Bread,  Eggs)     (Apple)            0.066066            0.383383 0.066066         1.0 2.608355  0.040737         inf       0.660236\n",
      "   ( Ice cream,  Bread)     (Apple)            0.074074            0.383383 0.074074         1.0 2.608355  0.045675         inf       0.665946\n",
      "( Kidney Beans,  Bread)     (Apple)            0.073073            0.383383 0.073073         1.0 2.608355  0.045058         inf       0.665227\n",
      "        ( Bread,  Milk)     (Apple)            0.072072            0.383383 0.072072         1.0 2.608355  0.044441         inf       0.664509\n",
      "      ( Bread,  Nutmeg)     (Apple)            0.077077            0.383383 0.077077         1.0 2.608355  0.047527         inf       0.668113\n",
      "\n",
      "\n",
      "freq_item         support                                           itemsets\n",
      "0      0.154154                                           ( Bread)\n",
      "1      0.288288                                          ( Butter)\n",
      "2      0.321321                                          ( Cheese)\n",
      "3      0.361361                                            ( Corn)\n",
      "4      0.366366                                            ( Dill)\n",
      "...         ...                                                ...\n",
      "11441  0.010010  ( Milk,  chocolate,  Onion,  Eggs,  Ice cream,...\n",
      "11442  0.011011  ( Milk,  Onion,  Eggs,  Ice cream,  Unicorn, A...\n",
      "11443  0.010010  ( Milk,  Onion,  Eggs,  Kidney Beans,  Unicorn...\n",
      "11444  0.010010  ( chocolate,  Nutmeg,  Onion,  Kidney Beans,  ...\n",
      "11445  0.010010  ( chocolate,  Sugar,  Onion,  Kidney Beans,  U...\n",
      "\n",
      "[11446 rows x 2 columns]\n",
      "Support = 0.01 / Confidence = 0.20 / Total No.association rules: 169444 / No. of Maximal Sets: 3748 / No. of Closed Sets: 167\n",
      "\n",
      "Top 10 rules ordered by confidence descending:\n",
      "            antecedents consequents  antecedent support  consequent support  support  confidence     lift  leverage  conviction  zhangs_metric\n",
      "               ( Bread)     (Apple)            0.154154            0.383383 0.154154         1.0 2.608355  0.095054         inf       0.728994\n",
      "      ( Bread,  Butter)     (Apple)            0.080080            0.383383 0.080080         1.0 2.608355  0.049379         inf       0.670294\n",
      "      ( Bread,  Cheese)     (Apple)            0.066066            0.383383 0.066066         1.0 2.608355  0.040737         inf       0.660236\n",
      "        ( Bread,  Corn)     (Apple)            0.080080            0.383383 0.080080         1.0 2.608355  0.049379         inf       0.670294\n",
      "        ( Dill,  Bread)     (Apple)            0.070070            0.383383 0.070070         1.0 2.608355  0.043206         inf       0.663079\n",
      "        ( Bread,  Eggs)     (Apple)            0.066066            0.383383 0.066066         1.0 2.608355  0.040737         inf       0.660236\n",
      "   ( Ice cream,  Bread)     (Apple)            0.074074            0.383383 0.074074         1.0 2.608355  0.045675         inf       0.665946\n",
      "( Kidney Beans,  Bread)     (Apple)            0.073073            0.383383 0.073073         1.0 2.608355  0.045058         inf       0.665227\n",
      "        ( Bread,  Milk)     (Apple)            0.072072            0.383383 0.072072         1.0 2.608355  0.044441         inf       0.664509\n",
      "      ( Bread,  Nutmeg)     (Apple)            0.077077            0.383383 0.077077         1.0 2.608355  0.047527         inf       0.668113\n",
      "\n",
      "\n",
      "freq_item         support                                           itemsets\n",
      "0      0.154154                                           ( Bread)\n",
      "1      0.288288                                          ( Butter)\n",
      "2      0.321321                                          ( Cheese)\n",
      "3      0.361361                                            ( Corn)\n",
      "4      0.366366                                            ( Dill)\n",
      "...         ...                                                ...\n",
      "11441  0.010010  ( Milk,  chocolate,  Onion,  Eggs,  Ice cream,...\n",
      "11442  0.011011  ( Milk,  Onion,  Eggs,  Ice cream,  Unicorn, A...\n",
      "11443  0.010010  ( Milk,  Onion,  Eggs,  Kidney Beans,  Unicorn...\n",
      "11444  0.010010  ( chocolate,  Nutmeg,  Onion,  Kidney Beans,  ...\n",
      "11445  0.010010  ( chocolate,  Sugar,  Onion,  Kidney Beans,  U...\n",
      "\n",
      "[11446 rows x 2 columns]\n",
      "Support = 0.01 / Confidence = 0.30 / Total No.association rules: 90659 / No. of Maximal Sets: 3748 / No. of Closed Sets: 167\n",
      "\n",
      "Top 10 rules ordered by confidence descending:\n",
      "            antecedents consequents  antecedent support  consequent support  support  confidence     lift  leverage  conviction  zhangs_metric\n",
      "               ( Bread)     (Apple)            0.154154            0.383383 0.154154         1.0 2.608355  0.095054         inf       0.728994\n",
      "      ( Bread,  Butter)     (Apple)            0.080080            0.383383 0.080080         1.0 2.608355  0.049379         inf       0.670294\n",
      "      ( Bread,  Cheese)     (Apple)            0.066066            0.383383 0.066066         1.0 2.608355  0.040737         inf       0.660236\n",
      "        ( Bread,  Corn)     (Apple)            0.080080            0.383383 0.080080         1.0 2.608355  0.049379         inf       0.670294\n",
      "        ( Dill,  Bread)     (Apple)            0.070070            0.383383 0.070070         1.0 2.608355  0.043206         inf       0.663079\n",
      "        ( Bread,  Eggs)     (Apple)            0.066066            0.383383 0.066066         1.0 2.608355  0.040737         inf       0.660236\n",
      "   ( Ice cream,  Bread)     (Apple)            0.074074            0.383383 0.074074         1.0 2.608355  0.045675         inf       0.665946\n",
      "( Kidney Beans,  Bread)     (Apple)            0.073073            0.383383 0.073073         1.0 2.608355  0.045058         inf       0.665227\n",
      "        ( Bread,  Milk)     (Apple)            0.072072            0.383383 0.072072         1.0 2.608355  0.044441         inf       0.664509\n",
      "      ( Bread,  Nutmeg)     (Apple)            0.077077            0.383383 0.077077         1.0 2.608355  0.047527         inf       0.668113\n",
      "\n",
      "\n",
      "freq_item        support                                           itemsets\n",
      "0     0.154154                                           ( Bread)\n",
      "1     0.288288                                          ( Butter)\n",
      "2     0.321321                                          ( Cheese)\n",
      "3     0.361361                                            ( Corn)\n",
      "4     0.366366                                            ( Dill)\n",
      "...        ...                                                ...\n",
      "4639  0.030030     ( chocolate,  Sugar,  Unicorn, Apple,  Yogurt)\n",
      "4640  0.020020  ( Sugar,  Corn,  Bread,  Unicorn, Apple,  Yogurt)\n",
      "4641  0.020020  ( Nutmeg,  Sugar,  Corn,  Ice cream,  Butter, ...\n",
      "4642  0.022022  (Apple,  Sugar,  Corn,  Kidney Beans,  Unicorn...\n",
      "4643  0.020020  ( chocolate,  Sugar,  Onion,  Corn,  Unicorn, ...\n",
      "\n",
      "[4644 rows x 2 columns]\n"
     ]
    },
    {
     "name": "stdout",
     "output_type": "stream",
     "text": [
      "Support = 0.02 / Confidence = 0.10 / Total No.association rules: 74084 / No. of Maximal Sets: 2245 / No. of Closed Sets: 157\n",
      "\n",
      "Top 10 rules ordered by confidence descending:\n",
      "            antecedents consequents  antecedent support  consequent support  support  confidence     lift  leverage  conviction  zhangs_metric\n",
      "               ( Bread)     (Apple)            0.154154            0.383383 0.154154         1.0 2.608355  0.095054         inf       0.728994\n",
      "      ( Bread,  Butter)     (Apple)            0.080080            0.383383 0.080080         1.0 2.608355  0.049379         inf       0.670294\n",
      "      ( Bread,  Cheese)     (Apple)            0.066066            0.383383 0.066066         1.0 2.608355  0.040737         inf       0.660236\n",
      "        ( Bread,  Corn)     (Apple)            0.080080            0.383383 0.080080         1.0 2.608355  0.049379         inf       0.670294\n",
      "        ( Dill,  Bread)     (Apple)            0.070070            0.383383 0.070070         1.0 2.608355  0.043206         inf       0.663079\n",
      "        ( Bread,  Eggs)     (Apple)            0.066066            0.383383 0.066066         1.0 2.608355  0.040737         inf       0.660236\n",
      "   ( Ice cream,  Bread)     (Apple)            0.074074            0.383383 0.074074         1.0 2.608355  0.045675         inf       0.665946\n",
      "( Kidney Beans,  Bread)     (Apple)            0.073073            0.383383 0.073073         1.0 2.608355  0.045058         inf       0.665227\n",
      "        ( Bread,  Milk)     (Apple)            0.072072            0.383383 0.072072         1.0 2.608355  0.044441         inf       0.664509\n",
      "      ( Bread,  Nutmeg)     (Apple)            0.077077            0.383383 0.077077         1.0 2.608355  0.047527         inf       0.668113\n",
      "\n",
      "\n",
      "freq_item        support                                           itemsets\n",
      "0     0.154154                                           ( Bread)\n",
      "1     0.288288                                          ( Butter)\n",
      "2     0.321321                                          ( Cheese)\n",
      "3     0.361361                                            ( Corn)\n",
      "4     0.366366                                            ( Dill)\n",
      "...        ...                                                ...\n",
      "4639  0.030030     ( chocolate,  Sugar,  Unicorn, Apple,  Yogurt)\n",
      "4640  0.020020  ( Sugar,  Corn,  Bread,  Unicorn, Apple,  Yogurt)\n",
      "4641  0.020020  ( Nutmeg,  Sugar,  Corn,  Ice cream,  Butter, ...\n",
      "4642  0.022022  (Apple,  Sugar,  Corn,  Kidney Beans,  Unicorn...\n",
      "4643  0.020020  ( chocolate,  Sugar,  Onion,  Corn,  Unicorn, ...\n",
      "\n",
      "[4644 rows x 2 columns]\n",
      "Support = 0.02 / Confidence = 0.20 / Total No.association rules: 48360 / No. of Maximal Sets: 2245 / No. of Closed Sets: 157\n",
      "\n",
      "Top 10 rules ordered by confidence descending:\n",
      "            antecedents consequents  antecedent support  consequent support  support  confidence     lift  leverage  conviction  zhangs_metric\n",
      "               ( Bread)     (Apple)            0.154154            0.383383 0.154154         1.0 2.608355  0.095054         inf       0.728994\n",
      "      ( Bread,  Butter)     (Apple)            0.080080            0.383383 0.080080         1.0 2.608355  0.049379         inf       0.670294\n",
      "      ( Bread,  Cheese)     (Apple)            0.066066            0.383383 0.066066         1.0 2.608355  0.040737         inf       0.660236\n",
      "        ( Bread,  Corn)     (Apple)            0.080080            0.383383 0.080080         1.0 2.608355  0.049379         inf       0.670294\n",
      "        ( Dill,  Bread)     (Apple)            0.070070            0.383383 0.070070         1.0 2.608355  0.043206         inf       0.663079\n",
      "        ( Bread,  Eggs)     (Apple)            0.066066            0.383383 0.066066         1.0 2.608355  0.040737         inf       0.660236\n",
      "   ( Ice cream,  Bread)     (Apple)            0.074074            0.383383 0.074074         1.0 2.608355  0.045675         inf       0.665946\n",
      "( Kidney Beans,  Bread)     (Apple)            0.073073            0.383383 0.073073         1.0 2.608355  0.045058         inf       0.665227\n",
      "        ( Bread,  Milk)     (Apple)            0.072072            0.383383 0.072072         1.0 2.608355  0.044441         inf       0.664509\n",
      "      ( Bread,  Nutmeg)     (Apple)            0.077077            0.383383 0.077077         1.0 2.608355  0.047527         inf       0.668113\n",
      "\n",
      "\n",
      "freq_item        support                                           itemsets\n",
      "0     0.154154                                           ( Bread)\n",
      "1     0.288288                                          ( Butter)\n",
      "2     0.321321                                          ( Cheese)\n",
      "3     0.361361                                            ( Corn)\n",
      "4     0.366366                                            ( Dill)\n",
      "...        ...                                                ...\n",
      "4639  0.030030     ( chocolate,  Sugar,  Unicorn, Apple,  Yogurt)\n",
      "4640  0.020020  ( Sugar,  Corn,  Bread,  Unicorn, Apple,  Yogurt)\n",
      "4641  0.020020  ( Nutmeg,  Sugar,  Corn,  Ice cream,  Butter, ...\n",
      "4642  0.022022  (Apple,  Sugar,  Corn,  Kidney Beans,  Unicorn...\n",
      "4643  0.020020  ( chocolate,  Sugar,  Onion,  Corn,  Unicorn, ...\n",
      "\n",
      "[4644 rows x 2 columns]\n",
      "Support = 0.02 / Confidence = 0.30 / Total No.association rules: 24670 / No. of Maximal Sets: 2245 / No. of Closed Sets: 157\n",
      "\n",
      "Top 10 rules ordered by confidence descending:\n",
      "            antecedents consequents  antecedent support  consequent support  support  confidence     lift  leverage  conviction  zhangs_metric\n",
      "               ( Bread)     (Apple)            0.154154            0.383383 0.154154         1.0 2.608355  0.095054         inf       0.728994\n",
      "      ( Bread,  Butter)     (Apple)            0.080080            0.383383 0.080080         1.0 2.608355  0.049379         inf       0.670294\n",
      "      ( Bread,  Cheese)     (Apple)            0.066066            0.383383 0.066066         1.0 2.608355  0.040737         inf       0.660236\n",
      "        ( Bread,  Corn)     (Apple)            0.080080            0.383383 0.080080         1.0 2.608355  0.049379         inf       0.670294\n",
      "        ( Dill,  Bread)     (Apple)            0.070070            0.383383 0.070070         1.0 2.608355  0.043206         inf       0.663079\n",
      "        ( Bread,  Eggs)     (Apple)            0.066066            0.383383 0.066066         1.0 2.608355  0.040737         inf       0.660236\n",
      "   ( Ice cream,  Bread)     (Apple)            0.074074            0.383383 0.074074         1.0 2.608355  0.045675         inf       0.665946\n",
      "( Kidney Beans,  Bread)     (Apple)            0.073073            0.383383 0.073073         1.0 2.608355  0.045058         inf       0.665227\n",
      "        ( Bread,  Milk)     (Apple)            0.072072            0.383383 0.072072         1.0 2.608355  0.044441         inf       0.664509\n",
      "      ( Bread,  Nutmeg)     (Apple)            0.077077            0.383383 0.077077         1.0 2.608355  0.047527         inf       0.668113\n",
      "\n",
      "\n",
      "freq_item        support                                        itemsets\n",
      "0     0.154154                                        ( Bread)\n",
      "1     0.288288                                       ( Butter)\n",
      "2     0.321321                                       ( Cheese)\n",
      "3     0.361361                                         ( Corn)\n",
      "4     0.366366                                         ( Dill)\n",
      "...        ...                                             ...\n",
      "2250  0.030030    ( Dill,  chocolate,  Onion,  Unicorn, Apple)\n",
      "2251  0.030030       ( Milk,  Onion,  Eggs,  Unicorn,  Yogurt)\n",
      "2252  0.030030      ( Sugar,  Onion,  Unicorn, Apple,  Yogurt)\n",
      "2253  0.031031   ( chocolate,  Sugar,  Onion,  Unicorn, Apple)\n",
      "2254  0.030030  ( chocolate,  Sugar,  Unicorn, Apple,  Yogurt)\n",
      "\n",
      "[2255 rows x 2 columns]\n",
      "Support = 0.03 / Confidence = 0.10 / Total No.association rules: 22861 / No. of Maximal Sets: 1355 / No. of Closed Sets: 147\n",
      "\n",
      "Top 10 rules ordered by confidence descending:\n",
      "            antecedents consequents  antecedent support  consequent support  support  confidence     lift  leverage  conviction  zhangs_metric\n",
      "               ( Bread)     (Apple)            0.154154            0.383383 0.154154         1.0 2.608355  0.095054         inf       0.728994\n",
      "      ( Bread,  Butter)     (Apple)            0.080080            0.383383 0.080080         1.0 2.608355  0.049379         inf       0.670294\n",
      "      ( Bread,  Cheese)     (Apple)            0.066066            0.383383 0.066066         1.0 2.608355  0.040737         inf       0.660236\n",
      "        ( Bread,  Corn)     (Apple)            0.080080            0.383383 0.080080         1.0 2.608355  0.049379         inf       0.670294\n",
      "        ( Dill,  Bread)     (Apple)            0.070070            0.383383 0.070070         1.0 2.608355  0.043206         inf       0.663079\n",
      "        ( Bread,  Eggs)     (Apple)            0.066066            0.383383 0.066066         1.0 2.608355  0.040737         inf       0.660236\n",
      "   ( Ice cream,  Bread)     (Apple)            0.074074            0.383383 0.074074         1.0 2.608355  0.045675         inf       0.665946\n",
      "( Kidney Beans,  Bread)     (Apple)            0.073073            0.383383 0.073073         1.0 2.608355  0.045058         inf       0.665227\n",
      "        ( Bread,  Milk)     (Apple)            0.072072            0.383383 0.072072         1.0 2.608355  0.044441         inf       0.664509\n",
      "      ( Bread,  Nutmeg)     (Apple)            0.077077            0.383383 0.077077         1.0 2.608355  0.047527         inf       0.668113\n",
      "\n",
      "\n",
      "freq_item        support                                        itemsets\n",
      "0     0.154154                                        ( Bread)\n",
      "1     0.288288                                       ( Butter)\n",
      "2     0.321321                                       ( Cheese)\n",
      "3     0.361361                                         ( Corn)\n",
      "4     0.366366                                         ( Dill)\n",
      "...        ...                                             ...\n",
      "2250  0.030030    ( Dill,  chocolate,  Onion,  Unicorn, Apple)\n",
      "2251  0.030030       ( Milk,  Onion,  Eggs,  Unicorn,  Yogurt)\n",
      "2252  0.030030      ( Sugar,  Onion,  Unicorn, Apple,  Yogurt)\n",
      "2253  0.031031   ( chocolate,  Sugar,  Onion,  Unicorn, Apple)\n",
      "2254  0.030030  ( chocolate,  Sugar,  Unicorn, Apple,  Yogurt)\n",
      "\n",
      "[2255 rows x 2 columns]\n"
     ]
    },
    {
     "name": "stdout",
     "output_type": "stream",
     "text": [
      "Support = 0.03 / Confidence = 0.20 / Total No.association rules: 17091 / No. of Maximal Sets: 1355 / No. of Closed Sets: 147\n",
      "\n",
      "Top 10 rules ordered by confidence descending:\n",
      "            antecedents consequents  antecedent support  consequent support  support  confidence     lift  leverage  conviction  zhangs_metric\n",
      "               ( Bread)     (Apple)            0.154154            0.383383 0.154154         1.0 2.608355  0.095054         inf       0.728994\n",
      "      ( Bread,  Butter)     (Apple)            0.080080            0.383383 0.080080         1.0 2.608355  0.049379         inf       0.670294\n",
      "      ( Bread,  Cheese)     (Apple)            0.066066            0.383383 0.066066         1.0 2.608355  0.040737         inf       0.660236\n",
      "        ( Bread,  Corn)     (Apple)            0.080080            0.383383 0.080080         1.0 2.608355  0.049379         inf       0.670294\n",
      "        ( Dill,  Bread)     (Apple)            0.070070            0.383383 0.070070         1.0 2.608355  0.043206         inf       0.663079\n",
      "        ( Bread,  Eggs)     (Apple)            0.066066            0.383383 0.066066         1.0 2.608355  0.040737         inf       0.660236\n",
      "   ( Ice cream,  Bread)     (Apple)            0.074074            0.383383 0.074074         1.0 2.608355  0.045675         inf       0.665946\n",
      "( Kidney Beans,  Bread)     (Apple)            0.073073            0.383383 0.073073         1.0 2.608355  0.045058         inf       0.665227\n",
      "        ( Bread,  Milk)     (Apple)            0.072072            0.383383 0.072072         1.0 2.608355  0.044441         inf       0.664509\n",
      "      ( Bread,  Nutmeg)     (Apple)            0.077077            0.383383 0.077077         1.0 2.608355  0.047527         inf       0.668113\n",
      "\n",
      "\n",
      "freq_item        support                                        itemsets\n",
      "0     0.154154                                        ( Bread)\n",
      "1     0.288288                                       ( Butter)\n",
      "2     0.321321                                       ( Cheese)\n",
      "3     0.361361                                         ( Corn)\n",
      "4     0.366366                                         ( Dill)\n",
      "...        ...                                             ...\n",
      "2250  0.030030    ( Dill,  chocolate,  Onion,  Unicorn, Apple)\n",
      "2251  0.030030       ( Milk,  Onion,  Eggs,  Unicorn,  Yogurt)\n",
      "2252  0.030030      ( Sugar,  Onion,  Unicorn, Apple,  Yogurt)\n",
      "2253  0.031031   ( chocolate,  Sugar,  Onion,  Unicorn, Apple)\n",
      "2254  0.030030  ( chocolate,  Sugar,  Unicorn, Apple,  Yogurt)\n",
      "\n",
      "[2255 rows x 2 columns]\n",
      "Support = 0.03 / Confidence = 0.30 / Total No.association rules: 8837 / No. of Maximal Sets: 1355 / No. of Closed Sets: 147\n",
      "\n",
      "Top 10 rules ordered by confidence descending:\n",
      "            antecedents consequents  antecedent support  consequent support  support  confidence     lift  leverage  conviction  zhangs_metric\n",
      "               ( Bread)     (Apple)            0.154154            0.383383 0.154154         1.0 2.608355  0.095054         inf       0.728994\n",
      "      ( Bread,  Butter)     (Apple)            0.080080            0.383383 0.080080         1.0 2.608355  0.049379         inf       0.670294\n",
      "      ( Bread,  Cheese)     (Apple)            0.066066            0.383383 0.066066         1.0 2.608355  0.040737         inf       0.660236\n",
      "        ( Bread,  Corn)     (Apple)            0.080080            0.383383 0.080080         1.0 2.608355  0.049379         inf       0.670294\n",
      "        ( Dill,  Bread)     (Apple)            0.070070            0.383383 0.070070         1.0 2.608355  0.043206         inf       0.663079\n",
      "        ( Bread,  Eggs)     (Apple)            0.066066            0.383383 0.066066         1.0 2.608355  0.040737         inf       0.660236\n",
      "   ( Ice cream,  Bread)     (Apple)            0.074074            0.383383 0.074074         1.0 2.608355  0.045675         inf       0.665946\n",
      "( Kidney Beans,  Bread)     (Apple)            0.073073            0.383383 0.073073         1.0 2.608355  0.045058         inf       0.665227\n",
      "        ( Bread,  Milk)     (Apple)            0.072072            0.383383 0.072072         1.0 2.608355  0.044441         inf       0.664509\n",
      "      ( Bread,  Nutmeg)     (Apple)            0.077077            0.383383 0.077077         1.0 2.608355  0.047527         inf       0.668113\n",
      "\n",
      "\n"
     ]
    }
   ],
   "source": [
    "#3 different combinations of support and confidence\n",
    "sl = [0.01, 0.02, 0.03]\n",
    "cl = [0.1, 0.2, 0.3]\n",
    "\n",
    "#checking whether the transctions are not empty\n",
    "if not trans:\n",
    "    raise ValueError(\"Input transactions are empty.\")\n",
    "\n",
    "#for loop used to traverse between support and confidence\n",
    "for support in sl:\n",
    "    for confidence in cl:\n",
    "\n",
    "        #apriori algorithm\n",
    "        traen = TransactionEncoder() #the transactionEncoder class is used to convert a list of transactions into a one-hot encoded NumPy array or pandas DataFrame\n",
    "        traen_array = traen.fit(trans).transform(trans)\n",
    "        data1 = pd.DataFrame(traen_array, columns=traen.columns_)\n",
    "        freq_item = apriori(data1, min_support=support, use_colnames=True)\n",
    "        print('freq_item',freq_item)\n",
    "\n",
    "        asso_rule = association_rules(freq_item, metric=\"confidence\", min_threshold=confidence) #generating association rules\n",
    "\n",
    "        if asso_rule.empty:\n",
    "            print(f\"No association rules found for Support={support} and Confidence={confidence}\")  #checking whether the transctions are not empty\n",
    "            continue\n",
    "        \n",
    "        #by applying frozenset to each item in the 'antecedents' column, we are essentially converting each set of antecedents into an immutable frozenset.\n",
    "        asso_rule['antecedents'] = asso_rule['antecedents'].apply(frozenset)\n",
    "        asso_rule['consequents'] = asso_rule['consequents'].apply(frozenset)\n",
    "\n",
    "        #maximal and closed sets\n",
    "        maxed_set = freq_item[~freq_item['itemsets'].apply(lambda x: any(frozenset(x).issubset(s) and frozenset(x) != s for s in freq_item['itemsets']))]['itemsets'].apply(frozenset).tolist()\n",
    "        closed_set = freq_item[~freq_item['support'].duplicated(keep='last')]['itemsets'].apply(frozenset).tolist()\n",
    "                \n",
    "        print(f\"Support = {support:.2f}\",\"/\", f\"Confidence = {confidence:.2f}\",\"/\", f\"Total No.association rules: {len(asso_rule)}\",\"/\", f\"No. of Maximal Sets: {len(maxed_set)}\",\"/\", f\"No. of Closed Sets: {len(closed_set)}\\n\")\n",
    "        print(\"Top 10 rules ordered by confidence descending:\")\n",
    "        print(asso_rule.nlargest(10, 'confidence').to_string(index=False))\n",
    "        print(\"\\n\")"
   ]
  },
  {
   "cell_type": "markdown",
   "metadata": {},
   "source": [
    "5.    Execute FP Growth algorithm and generate rules for 3 different combinations of support and confidence"
   ]
  },
  {
   "cell_type": "code",
   "execution_count": 15,
   "metadata": {},
   "outputs": [
    {
     "name": "stdout",
     "output_type": "stream",
     "text": [
      "Support = 0.04 / Confidence = 0.20 / Total No.association rules: 11246 / No. of Maximal Sets: 1355 / No. of Closed Sets: 147\n",
      "\n",
      "Top 10 rules ordered by confidence descending:\n",
      "                  antecedents consequents  antecedent support  consequent support  support  confidence     lift  leverage  conviction  zhangs_metric\n",
      "                     ( Bread)     (Apple)            0.154154            0.383383 0.154154         1.0 2.608355  0.095054         inf       0.728994\n",
      "            ( Bread,  Yogurt)     (Apple)            0.085085            0.383383 0.085085         1.0 2.608355  0.052465         inf       0.673961\n",
      "            ( Bread,  Butter)     (Apple)            0.080080            0.383383 0.080080         1.0 2.608355  0.049379         inf       0.670294\n",
      "   ( Butter,  Bread,  Yogurt)     (Apple)            0.044044            0.383383 0.044044         1.0 2.608355  0.027158         inf       0.645026\n",
      "    ( Bread,  Sugar,  Butter)     (Apple)            0.043043            0.383383 0.043043         1.0 2.608355  0.026541         inf       0.644351\n",
      "     ( Bread,  Butter,  Corn)     (Apple)            0.040040            0.383383 0.040040         1.0 2.608355  0.024689         inf       0.642336\n",
      "         ( Bread,  chocolate)     (Apple)            0.079079            0.383383 0.079079         1.0 2.608355  0.048761         inf       0.669565\n",
      "( Bread,  chocolate,  Yogurt)     (Apple)            0.048048            0.383383 0.048048         1.0 2.608355  0.029627         inf       0.647739\n",
      "( Bread,  chocolate,  Butter)     (Apple)            0.043043            0.383383 0.043043         1.0 2.608355  0.026541         inf       0.644351\n",
      " ( Bread,  Sugar,  chocolate)     (Apple)            0.042042            0.383383 0.042042         1.0 2.608355  0.025924         inf       0.643678\n",
      "\n",
      "\n",
      "Support = 0.04 / Confidence = 0.30 / Total No.association rules: 5585 / No. of Maximal Sets: 1355 / No. of Closed Sets: 147\n",
      "\n",
      "Top 10 rules ordered by confidence descending:\n",
      "                  antecedents consequents  antecedent support  consequent support  support  confidence     lift  leverage  conviction  zhangs_metric\n",
      "                     ( Bread)     (Apple)            0.154154            0.383383 0.154154         1.0 2.608355  0.095054         inf       0.728994\n",
      "            ( Bread,  Yogurt)     (Apple)            0.085085            0.383383 0.085085         1.0 2.608355  0.052465         inf       0.673961\n",
      "            ( Bread,  Butter)     (Apple)            0.080080            0.383383 0.080080         1.0 2.608355  0.049379         inf       0.670294\n",
      "   ( Butter,  Bread,  Yogurt)     (Apple)            0.044044            0.383383 0.044044         1.0 2.608355  0.027158         inf       0.645026\n",
      "    ( Bread,  Sugar,  Butter)     (Apple)            0.043043            0.383383 0.043043         1.0 2.608355  0.026541         inf       0.644351\n",
      "     ( Bread,  Butter,  Corn)     (Apple)            0.040040            0.383383 0.040040         1.0 2.608355  0.024689         inf       0.642336\n",
      "         ( Bread,  chocolate)     (Apple)            0.079079            0.383383 0.079079         1.0 2.608355  0.048761         inf       0.669565\n",
      "( Bread,  chocolate,  Yogurt)     (Apple)            0.048048            0.383383 0.048048         1.0 2.608355  0.029627         inf       0.647739\n",
      "( Bread,  chocolate,  Butter)     (Apple)            0.043043            0.383383 0.043043         1.0 2.608355  0.026541         inf       0.644351\n",
      " ( Bread,  Sugar,  chocolate)     (Apple)            0.042042            0.383383 0.042042         1.0 2.608355  0.025924         inf       0.643678\n",
      "\n",
      "\n",
      "Support = 0.04 / Confidence = 0.40 / Total No.association rules: 5085 / No. of Maximal Sets: 1355 / No. of Closed Sets: 147\n",
      "\n",
      "Top 10 rules ordered by confidence descending:\n",
      "                  antecedents consequents  antecedent support  consequent support  support  confidence     lift  leverage  conviction  zhangs_metric\n",
      "                     ( Bread)     (Apple)            0.154154            0.383383 0.154154         1.0 2.608355  0.095054         inf       0.728994\n",
      "            ( Bread,  Yogurt)     (Apple)            0.085085            0.383383 0.085085         1.0 2.608355  0.052465         inf       0.673961\n",
      "            ( Bread,  Butter)     (Apple)            0.080080            0.383383 0.080080         1.0 2.608355  0.049379         inf       0.670294\n",
      "   ( Butter,  Bread,  Yogurt)     (Apple)            0.044044            0.383383 0.044044         1.0 2.608355  0.027158         inf       0.645026\n",
      "    ( Bread,  Sugar,  Butter)     (Apple)            0.043043            0.383383 0.043043         1.0 2.608355  0.026541         inf       0.644351\n",
      "     ( Bread,  Butter,  Corn)     (Apple)            0.040040            0.383383 0.040040         1.0 2.608355  0.024689         inf       0.642336\n",
      "         ( Bread,  chocolate)     (Apple)            0.079079            0.383383 0.079079         1.0 2.608355  0.048761         inf       0.669565\n",
      "( Bread,  chocolate,  Yogurt)     (Apple)            0.048048            0.383383 0.048048         1.0 2.608355  0.029627         inf       0.647739\n",
      "( Bread,  chocolate,  Butter)     (Apple)            0.043043            0.383383 0.043043         1.0 2.608355  0.026541         inf       0.644351\n",
      " ( Bread,  Sugar,  chocolate)     (Apple)            0.042042            0.383383 0.042042         1.0 2.608355  0.025924         inf       0.643678\n",
      "\n",
      "\n",
      "Support = 0.05 / Confidence = 0.20 / Total No.association rules: 3741 / No. of Maximal Sets: 1355 / No. of Closed Sets: 147\n",
      "\n",
      "Top 10 rules ordered by confidence descending:\n",
      "         antecedents consequents  antecedent support  consequent support  support  confidence     lift  leverage  conviction  zhangs_metric\n",
      "            ( Bread)     (Apple)            0.154154            0.383383 0.154154         1.0 2.608355  0.095054         inf       0.728994\n",
      "   ( Bread,  Yogurt)     (Apple)            0.085085            0.383383 0.085085         1.0 2.608355  0.052465         inf       0.673961\n",
      "   ( Bread,  Butter)     (Apple)            0.080080            0.383383 0.080080         1.0 2.608355  0.049379         inf       0.670294\n",
      "( Bread,  chocolate)     (Apple)            0.079079            0.383383 0.079079         1.0 2.608355  0.048761         inf       0.669565\n",
      "   ( Bread,  Nutmeg)     (Apple)            0.077077            0.383383 0.077077         1.0 2.608355  0.047527         inf       0.668113\n",
      "  ( Bread,  Unicorn)     (Apple)            0.076076            0.383383 0.076076         1.0 2.608355  0.046910         inf       0.667389\n",
      "( Ice cream,  Bread)     (Apple)            0.074074            0.383383 0.074074         1.0 2.608355  0.045675         inf       0.665946\n",
      "     ( Dill,  Bread)     (Apple)            0.070070            0.383383 0.070070         1.0 2.608355  0.043206         inf       0.663079\n",
      "   ( Bread,  Cheese)     (Apple)            0.066066            0.383383 0.066066         1.0 2.608355  0.040737         inf       0.660236\n",
      "    ( Bread,  Sugar)     (Apple)            0.082082            0.383383 0.082082         1.0 2.608355  0.050613         inf       0.671756\n",
      "\n",
      "\n",
      "Support = 0.05 / Confidence = 0.30 / Total No.association rules: 2246 / No. of Maximal Sets: 1355 / No. of Closed Sets: 147\n",
      "\n",
      "Top 10 rules ordered by confidence descending:\n",
      "         antecedents consequents  antecedent support  consequent support  support  confidence     lift  leverage  conviction  zhangs_metric\n",
      "            ( Bread)     (Apple)            0.154154            0.383383 0.154154         1.0 2.608355  0.095054         inf       0.728994\n",
      "   ( Bread,  Yogurt)     (Apple)            0.085085            0.383383 0.085085         1.0 2.608355  0.052465         inf       0.673961\n",
      "   ( Bread,  Butter)     (Apple)            0.080080            0.383383 0.080080         1.0 2.608355  0.049379         inf       0.670294\n",
      "( Bread,  chocolate)     (Apple)            0.079079            0.383383 0.079079         1.0 2.608355  0.048761         inf       0.669565\n",
      "   ( Bread,  Nutmeg)     (Apple)            0.077077            0.383383 0.077077         1.0 2.608355  0.047527         inf       0.668113\n",
      "  ( Bread,  Unicorn)     (Apple)            0.076076            0.383383 0.076076         1.0 2.608355  0.046910         inf       0.667389\n",
      "( Ice cream,  Bread)     (Apple)            0.074074            0.383383 0.074074         1.0 2.608355  0.045675         inf       0.665946\n",
      "     ( Dill,  Bread)     (Apple)            0.070070            0.383383 0.070070         1.0 2.608355  0.043206         inf       0.663079\n",
      "   ( Bread,  Cheese)     (Apple)            0.066066            0.383383 0.066066         1.0 2.608355  0.040737         inf       0.660236\n",
      "    ( Bread,  Sugar)     (Apple)            0.082082            0.383383 0.082082         1.0 2.608355  0.050613         inf       0.671756\n",
      "\n",
      "\n",
      "Support = 0.05 / Confidence = 0.40 / Total No.association rules: 1982 / No. of Maximal Sets: 1355 / No. of Closed Sets: 147\n",
      "\n",
      "Top 10 rules ordered by confidence descending:\n",
      "         antecedents consequents  antecedent support  consequent support  support  confidence     lift  leverage  conviction  zhangs_metric\n",
      "            ( Bread)     (Apple)            0.154154            0.383383 0.154154         1.0 2.608355  0.095054         inf       0.728994\n",
      "   ( Bread,  Yogurt)     (Apple)            0.085085            0.383383 0.085085         1.0 2.608355  0.052465         inf       0.673961\n",
      "   ( Bread,  Butter)     (Apple)            0.080080            0.383383 0.080080         1.0 2.608355  0.049379         inf       0.670294\n",
      "( Bread,  chocolate)     (Apple)            0.079079            0.383383 0.079079         1.0 2.608355  0.048761         inf       0.669565\n",
      "   ( Bread,  Nutmeg)     (Apple)            0.077077            0.383383 0.077077         1.0 2.608355  0.047527         inf       0.668113\n",
      "  ( Bread,  Unicorn)     (Apple)            0.076076            0.383383 0.076076         1.0 2.608355  0.046910         inf       0.667389\n",
      "( Ice cream,  Bread)     (Apple)            0.074074            0.383383 0.074074         1.0 2.608355  0.045675         inf       0.665946\n",
      "     ( Dill,  Bread)     (Apple)            0.070070            0.383383 0.070070         1.0 2.608355  0.043206         inf       0.663079\n",
      "   ( Bread,  Cheese)     (Apple)            0.066066            0.383383 0.066066         1.0 2.608355  0.040737         inf       0.660236\n",
      "    ( Bread,  Sugar)     (Apple)            0.082082            0.383383 0.082082         1.0 2.608355  0.050613         inf       0.671756\n",
      "\n",
      "\n"
     ]
    },
    {
     "name": "stdout",
     "output_type": "stream",
     "text": [
      "Support = 0.06 / Confidence = 0.20 / Total No.association rules: 2663 / No. of Maximal Sets: 1355 / No. of Closed Sets: 147\n",
      "\n",
      "Top 10 rules ordered by confidence descending:\n",
      "         antecedents consequents  antecedent support  consequent support  support  confidence     lift  leverage  conviction  zhangs_metric\n",
      "            ( Bread)     (Apple)            0.154154            0.383383 0.154154         1.0 2.608355  0.095054         inf       0.728994\n",
      "   ( Bread,  Yogurt)     (Apple)            0.085085            0.383383 0.085085         1.0 2.608355  0.052465         inf       0.673961\n",
      "   ( Bread,  Butter)     (Apple)            0.080080            0.383383 0.080080         1.0 2.608355  0.049379         inf       0.670294\n",
      "( Bread,  chocolate)     (Apple)            0.079079            0.383383 0.079079         1.0 2.608355  0.048761         inf       0.669565\n",
      "   ( Bread,  Nutmeg)     (Apple)            0.077077            0.383383 0.077077         1.0 2.608355  0.047527         inf       0.668113\n",
      "  ( Bread,  Unicorn)     (Apple)            0.076076            0.383383 0.076076         1.0 2.608355  0.046910         inf       0.667389\n",
      "( Ice cream,  Bread)     (Apple)            0.074074            0.383383 0.074074         1.0 2.608355  0.045675         inf       0.665946\n",
      "     ( Dill,  Bread)     (Apple)            0.070070            0.383383 0.070070         1.0 2.608355  0.043206         inf       0.663079\n",
      "   ( Bread,  Cheese)     (Apple)            0.066066            0.383383 0.066066         1.0 2.608355  0.040737         inf       0.660236\n",
      "    ( Bread,  Sugar)     (Apple)            0.082082            0.383383 0.082082         1.0 2.608355  0.050613         inf       0.671756\n",
      "\n",
      "\n",
      "Support = 0.06 / Confidence = 0.30 / Total No.association rules: 1639 / No. of Maximal Sets: 1355 / No. of Closed Sets: 147\n",
      "\n",
      "Top 10 rules ordered by confidence descending:\n",
      "         antecedents consequents  antecedent support  consequent support  support  confidence     lift  leverage  conviction  zhangs_metric\n",
      "            ( Bread)     (Apple)            0.154154            0.383383 0.154154         1.0 2.608355  0.095054         inf       0.728994\n",
      "   ( Bread,  Yogurt)     (Apple)            0.085085            0.383383 0.085085         1.0 2.608355  0.052465         inf       0.673961\n",
      "   ( Bread,  Butter)     (Apple)            0.080080            0.383383 0.080080         1.0 2.608355  0.049379         inf       0.670294\n",
      "( Bread,  chocolate)     (Apple)            0.079079            0.383383 0.079079         1.0 2.608355  0.048761         inf       0.669565\n",
      "   ( Bread,  Nutmeg)     (Apple)            0.077077            0.383383 0.077077         1.0 2.608355  0.047527         inf       0.668113\n",
      "  ( Bread,  Unicorn)     (Apple)            0.076076            0.383383 0.076076         1.0 2.608355  0.046910         inf       0.667389\n",
      "( Ice cream,  Bread)     (Apple)            0.074074            0.383383 0.074074         1.0 2.608355  0.045675         inf       0.665946\n",
      "     ( Dill,  Bread)     (Apple)            0.070070            0.383383 0.070070         1.0 2.608355  0.043206         inf       0.663079\n",
      "   ( Bread,  Cheese)     (Apple)            0.066066            0.383383 0.066066         1.0 2.608355  0.040737         inf       0.660236\n",
      "    ( Bread,  Sugar)     (Apple)            0.082082            0.383383 0.082082         1.0 2.608355  0.050613         inf       0.671756\n",
      "\n",
      "\n",
      "Support = 0.06 / Confidence = 0.40 / Total No.association rules: 1528 / No. of Maximal Sets: 1355 / No. of Closed Sets: 147\n",
      "\n",
      "Top 10 rules ordered by confidence descending:\n",
      "         antecedents consequents  antecedent support  consequent support  support  confidence     lift  leverage  conviction  zhangs_metric\n",
      "            ( Bread)     (Apple)            0.154154            0.383383 0.154154         1.0 2.608355  0.095054         inf       0.728994\n",
      "   ( Bread,  Yogurt)     (Apple)            0.085085            0.383383 0.085085         1.0 2.608355  0.052465         inf       0.673961\n",
      "   ( Bread,  Butter)     (Apple)            0.080080            0.383383 0.080080         1.0 2.608355  0.049379         inf       0.670294\n",
      "( Bread,  chocolate)     (Apple)            0.079079            0.383383 0.079079         1.0 2.608355  0.048761         inf       0.669565\n",
      "   ( Bread,  Nutmeg)     (Apple)            0.077077            0.383383 0.077077         1.0 2.608355  0.047527         inf       0.668113\n",
      "  ( Bread,  Unicorn)     (Apple)            0.076076            0.383383 0.076076         1.0 2.608355  0.046910         inf       0.667389\n",
      "( Ice cream,  Bread)     (Apple)            0.074074            0.383383 0.074074         1.0 2.608355  0.045675         inf       0.665946\n",
      "     ( Dill,  Bread)     (Apple)            0.070070            0.383383 0.070070         1.0 2.608355  0.043206         inf       0.663079\n",
      "   ( Bread,  Cheese)     (Apple)            0.066066            0.383383 0.066066         1.0 2.608355  0.040737         inf       0.660236\n",
      "    ( Bread,  Sugar)     (Apple)            0.082082            0.383383 0.082082         1.0 2.608355  0.050613         inf       0.671756\n",
      "\n",
      "\n"
     ]
    }
   ],
   "source": [
    "#3 different combinations of support and confidence\n",
    "sl = [0.04, 0.05, 0.06]\n",
    "cl = [0.2, 0.3, 0.4]\n",
    "\n",
    "#for loop used to traverse between support and confidence\n",
    "for support in sl:\n",
    "    for confidence in cl:\n",
    "\n",
    "        freq_item = fpgrowth(data_en, min_support=support, use_colnames=True) #fp Growth algorithm\n",
    "\n",
    "        asso_rule = association_rules(freq_item, metric=\"confidence\", min_threshold=confidence) #generating association rules using the frequent itemsets\n",
    "\n",
    "        #checking whether association rules are not empty\n",
    "        if asso_rule.empty:\n",
    "            print(f\"No association rules found for Support={support} and Confidence={confidence}\")\n",
    "            continue\n",
    "\n",
    "        #by applying frozenset to each item in the 'antecedents' column, we are essentially converting each set of antecedents into an immutable frozenset.s\n",
    "        asso_rule['antecedents'] = asso_rule['antecedents'].apply(frozenset)\n",
    "        asso_rule['consequents'] = asso_rule['consequents'].apply(frozenset)\n",
    "                \n",
    "        print(f\"Support = {support:.2f}\",\"/\", f\"Confidence = {confidence:.2f}\",\"/\", f\"Total No.association rules: {len(asso_rule)}\",\"/\", f\"No. of Maximal Sets: {len(maxed_set)}\",\"/\", f\"No. of Closed Sets: {len(closed_set)}\\n\")\n",
    "        print(\"Top 10 rules ordered by confidence descending:\")\n",
    "        print(asso_rule.nlargest(10, 'confidence').to_string(index=False))\n",
    "        print(\"\\n\")"
   ]
  },
  {
   "cell_type": "markdown",
   "metadata": {},
   "source": [
    "6.\tPlot the following graphs comparing both the algorithms:\n",
    "    - time vs minimum support\n",
    "    - time vs number of itemsets"
   ]
  },
  {
   "cell_type": "code",
   "execution_count": 15,
   "metadata": {},
   "outputs": [
    {
     "data": {
      "image/png": "[encoded data removed]",
      "text/plain": [
       "<Figure size 640x480 with 1 Axes>"
      ]
     },
     "metadata": {},
     "output_type": "display_data"
    },
    {
     "data": {
      "image/png": "[encoded data removed]",
      "text/plain": [
       "<Figure size 640x480 with 1 Axes>"
      ]
     },
     "metadata": {},
     "output_type": "display_data"
    }
   ],
   "source": [
    "#3 different combinations of support and confidence\n",
    "sl = [0.01, 0.015, 0.02]\n",
    "cl = [0.2, 0.15, 0.1]\n",
    "\n",
    "#checking whether the transctions are not empty\n",
    "if not trans:\n",
    "    raise ValueError(\"Input transactions are empty.\")\n",
    "\n",
    "#the lists below are is initialized as empty\n",
    "ap_time = []\n",
    "fp_time = []\n",
    "min_support = []\n",
    "itemsets_ap = []\n",
    "itemsets_fp = []\n",
    "\n",
    "#for loop used to traverse between support and confidence\n",
    "for support in sl:\n",
    "    for confidence in cl:\n",
    "\n",
    "        #apriori algorithm\n",
    "        start_time = time.time()\n",
    "        traen = TransactionEncoder()\n",
    "        traen_array = traen.fit(trans).transform(trans)\n",
    "        data1 = pd.DataFrame(traen_array, columns=traen.columns_)\n",
    "        freq_item = apriori(data1, min_support=support, use_colnames=True)\n",
    "        end_time = time.time()\n",
    "\n",
    "        #time taken and number of itemsets generated\n",
    "        ap_time.append(end_time - start_time) #timedelta object representing the time difference between the two timestamps\n",
    "        itemsets_ap.append(len(freq_item))\n",
    "        min_support.append(support)\n",
    "\n",
    "        #fp Growth algorithm\n",
    "        start_time = time.time()\n",
    "        freq_item = fpgrowth(data1, min_support=support, use_colnames=True)\n",
    "        end_time = time.time()\n",
    "\n",
    "        #time taken and number of itemsets generated\n",
    "        fp_time.append(end_time - start_time)\n",
    "        itemsets_fp.append(len(freq_item))\n",
    "\n",
    "\n",
    "#graph 1: time vs min support\n",
    "fig, ax = plt.subplots()\n",
    "ax.plot(min_support, ap_time, label='Apriori')\n",
    "ax.plot(min_support, fp_time, label='FP-Growth')\n",
    "ax.set_xlabel('Min Support')\n",
    "ax.set_ylabel('Time Taken(s)')\n",
    "ax.set_title('Time Taken vs Min Support')\n",
    "ax.legend()\n",
    "plt.show()\n",
    "\n",
    "#graph 2: time vs number of itemsets\n",
    "fig, ax = plt.subplots()\n",
    "ax.plot(itemsets_ap, ap_time, label='Apriori')\n",
    "ax.plot(itemsets_fp, fp_time, label='FP-Growth')\n",
    "ax.set_xlabel('Number of Itemsets')\n",
    "ax.set_ylabel('Time Taken(s)')\n",
    "ax.set_title('Time Taken vs Number of Item_sets')\n",
    "ax.legend()\n",
    "plt.show()"
   ]
  },
  {
   "cell_type": "markdown",
   "metadata": {},
   "source": [
    "7.    Explain the insights that you got from the graphs. Which algorithm worked better and what do you believe is the reason?\n",
    "\n",
    "The performance of the Apriori and FP-Growth frequent itemset mining techniques is demonstrated in the two graphs. The first graph shows that both algorithms require increasing processing time as the minimal support threshold increases. However, the Apriori method takes a lot longer than FP-Growth, especially at higher support levels. This is because the Apriori approach produces a large number of candidate itemsets with each iteration, which may be challenging to computationally assess. FP-Growth efficiently stores and mines frequent itemsets utilizing a prefix tree structure, which reduces the number of itemsets that must be generated and assessed.\n",
    "\n",
    "The second graph shows that both approaches' processing times increase as the number of itemsets does. But once more, FP-Growth takes a lot less time than the Apriori algorithm. Because the Apriori approach generates a large number of candidate itemsets with each iteration, this is done in order to generate and analyze more itemsets. In contrast, FP-Growth generates fewer itemsets since it only uses the frequent pattern tree to create the necessary frequent itemsets. Overall, the graphs demonstrate that FP-Growth outperforms Apriori for frequent itemset mining, particularly for larger datasets with stronger support criteria."
   ]
  },
  {
   "cell_type": "markdown",
   "metadata": {
    "id": "USb_soVC0XDc"
   },
   "source": [
    "# Rubric\n",
    "* [02 points] - Student Details and complying with submission instructions \n",
    "* [03 points] - Task 1 \n",
    "* [10 points] - Task 2\n",
    "* [05 points] - Task 3\n",
    "* [25 points] - Task 4\n",
    "* [25 points] - Task 5\n",
    "* [20 points] - task 6\n",
    "* [10 points] - task 7"
   ]
  },
  {
   "cell_type": "code",
   "execution_count": null,
   "metadata": {},
   "outputs": [],
   "source": [
    "#Reference\n",
    "#https://www.kaggle.com/code/rockystats/apriori-algorithm-or-market-basket-analysis\n",
    "#https://towardsdatascience.com/understand-and-build-fp-growth-algorithm-in-python-d8b989bab342"
   ]
  }
 ],
 "metadata": {
  "colab": {
   "provenance": []
  },
  "kernelspec": {
   "display_name": "Python 3 (ipykernel)",
   "language": "python",
   "name": "python3"
  },
  "language_info": {
   "codemirror_mode": {
    "name": "ipython",
    "version": 3
   },
   "file_extension": ".py",
   "mimetype": "text/x-python",
   "name": "python",
   "nbconvert_exporter": "python",
   "pygments_lexer": "ipython3",
   "version": "3.9.13"
  }
 },
 "nbformat": 4,
 "nbformat_minor": 1
}
